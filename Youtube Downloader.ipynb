{
 "cells": [
  {
   "cell_type": "code",
   "execution_count": 5,
   "id": "10d609bd-302f-4c36-ad4f-d76f67201070",
   "metadata": {},
   "outputs": [],
   "source": [
    "from pytube import YouTube\n",
    "import os"
   ]
  },
  {
   "cell_type": "code",
   "execution_count": 6,
   "id": "e320a2ff-1f9f-4389-8a77-8a77b2db9a11",
   "metadata": {},
   "outputs": [
    {
     "name": "stdout",
     "output_type": "stream",
     "text": [
      "Current Working Directory: D:\\my backup\\rajib\\portfolio projects\\python\\Youtube Downloader\n",
      "Title: Whenever, Wherever (Official HD Video)\n",
      "Views: 781290901\n",
      "Download complete.\n"
     ]
    }
   ],
   "source": [
    "# Print the current working directory\n",
    "print(\"Current Working Directory:\", os.getcwd())\n",
    "\n",
    "try:\n",
    "    # Specify the YouTube URL\n",
    "    url = \"https://www.youtube.com/watch?v=weRHyjj34ZE\"\n",
    "    \n",
    "    yt = YouTube(url)\n",
    "    \n",
    "    print(\"Title:\", yt.title)\n",
    "    print(\"Views:\", yt.views)\n",
    "\n",
    "    # Get the highest resolution stream\n",
    "    yd = yt.streams.get_highest_resolution()\n",
    "    \n",
    "    # Download the video to the current directory\n",
    "    yd.download()\n",
    "    \n",
    "    print(\"Download complete.\")\n",
    "except Exception as e:\n",
    "    print(\"An error occurred:\", str(e))"
   ]
  },
  {
   "cell_type": "markdown",
   "id": "470e479a-ea6a-4fcc-acc2-e638613ac83e",
   "metadata": {},
   "source": [
    "### For HD Video Downloading"
   ]
  },
  {
   "cell_type": "code",
   "execution_count": 8,
   "id": "615fec92-e6be-4c09-8adc-94a2711f0a36",
   "metadata": {},
   "outputs": [
    {
     "name": "stdout",
     "output_type": "stream",
     "text": [
      "Title: Whenever, Wherever (Official HD Video)\n",
      "Views: 781291693\n",
      "Download complete.\n"
     ]
    }
   ],
   "source": [
    "try:\n",
    "    # Specify the YouTube URL\n",
    "    url = \"https://www.youtube.com/watch?v=weRHyjj34ZE\"\n",
    "    \n",
    "    yt = YouTube(url)\n",
    "    \n",
    "    print(\"Title:\", yt.title)\n",
    "    print(\"Views:\", yt.views)\n",
    "\n",
    "    # Get the video stream in 1080p resolution if available\n",
    "    video_stream = yt.streams.filter(res=\"1080p\", mime_type=\"video/mp4\").first()\n",
    "\n",
    "    if video_stream:\n",
    "        # Download the video to the current directory\n",
    "        video_stream.download()\n",
    "        print(\"Download complete.\")\n",
    "    else:\n",
    "        print(\"1080p video stream not available.\")\n",
    "except Exception as e:\n",
    "    print(\"An error occurred:\", str(e))"
   ]
  },
  {
   "cell_type": "code",
   "execution_count": null,
   "id": "37023a34-33d4-4549-8db9-741ec3c17e99",
   "metadata": {},
   "outputs": [],
   "source": []
  },
  {
   "cell_type": "code",
   "execution_count": null,
   "id": "8581afeb-8c81-470f-97ed-da409bc00ae5",
   "metadata": {},
   "outputs": [],
   "source": []
  },
  {
   "cell_type": "code",
   "execution_count": null,
   "id": "d1af27c6-f116-455b-89c4-af1640a6c0d4",
   "metadata": {},
   "outputs": [],
   "source": []
  }
 ],
 "metadata": {
  "kernelspec": {
   "display_name": "Python 3 (ipykernel)",
   "language": "python",
   "name": "python3"
  },
  "language_info": {
   "codemirror_mode": {
    "name": "ipython",
    "version": 3
   },
   "file_extension": ".py",
   "mimetype": "text/x-python",
   "name": "python",
   "nbconvert_exporter": "python",
   "pygments_lexer": "ipython3",
   "version": "3.12.2"
  }
 },
 "nbformat": 4,
 "nbformat_minor": 5
}
